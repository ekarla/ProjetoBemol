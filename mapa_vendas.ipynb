{
  "cells": [
    {
      "cell_type": "markdown",
      "metadata": {
        "id": "view-in-github",
        "colab_type": "text"
      },
      "source": [
        "<a href=\"https://colab.research.google.com/github/ekarla/ProjetoBemol/blob/main/mapa_vendas.ipynb\" target=\"_parent\"><img src=\"https://colab.research.google.com/assets/colab-badge.svg\" alt=\"Open In Colab\"/></a>"
      ]
    },
    {
      "cell_type": "markdown",
      "metadata": {
        "id": "lRpCsB70rYWd"
      },
      "source": [
        "<h2> Mapa de vendas por Loja</h2>\n",
        "<p>Este projeto tem o objetivo de mostrar o total de vendas X dia X hora em cada unidade da Bemol.<br>\n",
        "Para a contrução deste código estaremos utilizando as bibliotecas <i>\"Pandas\", \"Glob\" e \"OS\"</i>.\n",
        "</p>"
      ]
    },
    {
      "cell_type": "code",
      "execution_count": null,
      "metadata": {
        "id": "6liFay5TrYWs"
      },
      "outputs": [],
      "source": [
        "import pandas as pd\n",
        "import glob\n",
        "import os"
      ]
    },
    {
      "cell_type": "code",
      "execution_count": null,
      "metadata": {
        "id": "Narrryr7rYWx"
      },
      "outputs": [],
      "source": [
        "# Função pega a informação da coluna Hora e verifica o tamanho da informação e retorna os dois primeiros digitos\n",
        "# se tamanho for igual 4 ou o primeiro digito se tamanho for igual a 3, caso contrario retorna 00\n",
        "\n",
        "def trata_hora(hora):\n",
        "    if(len(hora) == 4):\n",
        "      return int(hora[0:2])\n",
        "    elif(len(hora) == 3):\n",
        "      return int(hora[0:1])\n",
        "    else:\n",
        "      return 00 "
      ]
    },
    {
      "cell_type": "code",
      "execution_count": null,
      "metadata": {
        "id": "-oVKunfkrYW0"
      },
      "outputs": [],
      "source": [
        "#Definindo um intervalo para hora\n",
        "\n",
        "def intervalo_hora(hora):\n",
        "    if(hora >= 22):\n",
        "      return 22\n",
        "    elif(hora <= 8):\n",
        "      return 8\n",
        "    else:\n",
        "      return hora"
      ]
    },
    {
      "cell_type": "code",
      "execution_count": null,
      "metadata": {
        "id": "-GIiYNYRrYW2"
      },
      "outputs": [],
      "source": [
        "#Criando uma lista com os codigos que representam tipos de compras.\n",
        "\n",
        "def codigos_compra(base):\n",
        "    filtro = base[(filtro_vendas['NÃO COMPRA'] != \"X\")] \n",
        "    filtro = filtro['CODIGO']\n",
        "    return filtro   "
      ]
    },
    {
      "cell_type": "code",
      "execution_count": null,
      "metadata": {
        "id": "Xrr-WEFZrYW5"
      },
      "outputs": [],
      "source": [
        "#Tratando a coluna hora e aplicando com a função \"trata_hora\"\n",
        "\n",
        "def tratando_base_unidades(base):\n",
        "    base['Hora'] = base['Hora'].astype(str)\n",
        "    base['Hora'] = base.apply(lambda x: trata_hora(x.Hora), axis=1)\n",
        "    return base"
      ]
    },
    {
      "cell_type": "code",
      "execution_count": null,
      "metadata": {
        "id": "ut9smDWYrYW7"
      },
      "outputs": [],
      "source": [
        "#Realizando todos os cálculos de vendas. Subtraindo desconto e valor financiado\n",
        "\n",
        "def calculando_valores(base_unidade):\n",
        "    base_unidade['Valor +'] = (base_unidade['Qtde. Prestações'] * base_unidade['Vlr. Prestações']) + base_unidade['Vlr. Entrada'] + base_unidade['Vlr. Juros'] \n",
        "    base_unidade['Valor -'] = base_unidade['Valor Desconto'] + base_unidade['Vlr. Financiamento']\n",
        "    base_unidade['Valor Venda'] = base_unidade['Valor +'] - base_unidade['Valor -']\n",
        "    mapa = base_unidade[['Centro','Data','Hora','Qtde. Prestações','Valor +','Valor -','Valor Venda']]\n",
        "    return mapa\n"
      ]
    },
    {
      "cell_type": "markdown",
      "metadata": {
        "id": "xZzPijsfrYW-"
      },
      "source": [
        "<h3>Leitura dos arquivos<h3>"
      ]
    },
    {
      "cell_type": "code",
      "execution_count": null,
      "metadata": {
        "id": "3qLtFzFzrYXA"
      },
      "outputs": [],
      "source": [
        "path = r'/Users/16116/Google Drive/mapa_vendas/bases_lojas' # passando o caminho onde estão os arquivos base\n",
        "files= glob.glob(os.path.join(path, \"*.XLSX\")) \n",
        "filtro_vendas = pd.read_excel(\"base_operacoes.xlsx\",sheet_name=\"TRANSACOES\")"
      ]
    },
    {
      "cell_type": "markdown",
      "metadata": {
        "id": "zbP0om0SrYXD"
      },
      "source": [
        "<h3>Fazendo a Mágica</h3>\n",
        "<p> Nesta célula, são chamados as funções que realiza o tratamento dos dados<br>\n",
        "    <i>tratando_base_unidades()</i>. Realizamos o tratamento da coluna \"Hora\" e da\n",
        "    coluna \"Data\".<br> E fazemos a concatenação dos arquivos de cada unidade com o \n",
        "    comando <i>append</i>\n",
        "</p>"
      ]
    },
    {
      "cell_type": "code",
      "execution_count": null,
      "metadata": {
        "id": "qymQdR-jrYXF"
      },
      "outputs": [],
      "source": [
        "lista_vendas = []\n",
        "filtro = codigos_compra(filtro_vendas)\n",
        "for i in range(len(files)):\n",
        "    arquivo_unidade = pd.read_excel(files[i])\n",
        "    vendas_unidade = tratando_base_unidades(arquivo_unidade)\n",
        "    vendas_unidade = arquivo_unidade[(arquivo_unidade['ID Transação Caixa'].isin(filtro))].copy()\n",
        "    vendas_unidade['Qtde. Prestações'] = vendas_unidade['Qtde. Prestações'].replace(0,1)\n",
        "    vendas_unidade['Hora'] = vendas_unidade['Hora'].astype(int)\n",
        "    vendas_unidade['Hora'] = vendas_unidade.apply(lambda x: intervalo_hora(x.Hora), axis=1)\n",
        "    vendas_unidade['Data'] = pd.to_datetime(vendas_unidade['Data']).dt.day\n",
        "    mapa_vendas = calculando_valores(vendas_unidade)\n",
        "    lista_vendas.append(mapa_vendas)\n",
        "    "
      ]
    },
    {
      "cell_type": "markdown",
      "metadata": {
        "id": "gictFMndrYXH"
      },
      "source": [
        "<h3>Criação de Dataframe Mapa_vendas_lojas</h3>\n",
        "<p>Nesta celula realizamos a criação do dataframe com todas as informações de todas as unidades.<br>\n",
        "Após a criação do dataframe é realizado um agrupamento das informações com a função <i>groupby</i>, usando como parametro:<br>\n",
        "\"Centro\", \"Data\", \"Hora\" e realizando a soma dos valores de venda por dia e hora.\n",
        "</p>"
      ]
    },
    {
      "cell_type": "code",
      "execution_count": null,
      "metadata": {
        "id": "f1GnBZPirYXI"
      },
      "outputs": [],
      "source": [
        "df_vendas = pd.DataFrame()\n",
        "for i in range(len(lista_vendas)):\n",
        "    df_vendas = pd.concat([df_vendas,lista_vendas[i]])\n",
        "    \n",
        "base_geral = df_vendas.groupby(['Centro','Data','Hora'],as_index=False).agg({'Valor Venda': 'sum'})\n",
        "#base_geral"
      ]
    },
    {
      "cell_type": "markdown",
      "metadata": {
        "id": "Q6q08PQerYXK"
      },
      "source": [
        "<h3>Salvando o arquivo</h3>\n",
        "<p>Após realizar o tratamento e todos os calculos solicitados, salvamos o arquivo no formato <i>.txt</i>\n",
        "para utilizarmos posteriormente.\n",
        "</p>"
      ]
    },
    {
      "cell_type": "code",
      "execution_count": null,
      "metadata": {
        "id": "vy2G8tB2rYXL"
      },
      "outputs": [],
      "source": [
        "base_geral.to_excel(\"base_vendas_lojas.xlsx\",index=False)"
      ]
    }
  ],
  "metadata": {
    "interpreter": {
      "hash": "1632e2ff46af55249cd5fd66d1abca92825625e5a09d68756c5f6be6bda9c5d6"
    },
    "kernelspec": {
      "display_name": "Python 3.8.5 64-bit",
      "language": "python",
      "name": "python3"
    },
    "language_info": {
      "codemirror_mode": {
        "name": "ipython",
        "version": 3
      },
      "file_extension": ".py",
      "mimetype": "text/x-python",
      "name": "python",
      "nbconvert_exporter": "python",
      "pygments_lexer": "ipython3",
      "version": "3.8.5"
    },
    "orig_nbformat": 4,
    "colab": {
      "name": "mapa_vendas.ipynb",
      "provenance": [],
      "include_colab_link": true
    }
  },
  "nbformat": 4,
  "nbformat_minor": 0
}