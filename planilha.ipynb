{
  "cells": [
    {
      "cell_type": "markdown",
      "metadata": {
        "id": "view-in-github",
        "colab_type": "text"
      },
      "source": [
        "<a href=\"https://colab.research.google.com/github/ekarla/ProjetoBemol/blob/main/planilha.ipynb\" target=\"_parent\"><img src=\"https://colab.research.google.com/assets/colab-badge.svg\" alt=\"Open In Colab\"/></a>"
      ]
    },
    {
      "cell_type": "code",
      "execution_count": null,
      "source": [
        "import pandas as pd"
      ],
      "outputs": [],
      "metadata": {
        "id": "3M2aoBnFCL-k"
      }
    },
    {
      "cell_type": "code",
      "execution_count": null,
      "source": [
        "planilha = pd.read_excel(\"PLANO HAPVIDA - ELENKARLA.xlsx\")\n",
        "planilha = planilha.rename(columns= planilha.iloc[2])\n",
        "#planilha\n"
      ],
      "outputs": [],
      "metadata": {
        "id": "6FXxHLpOCL-z"
      }
    },
    {
      "cell_type": "code",
      "execution_count": null,
      "source": [
        "planilha = planilha.drop([0,1,2])\n",
        "planilha = planilha.iloc[:,0:3]\n",
        "planilha\n"
      ],
      "outputs": [
        {
          "output_type": "execute_result",
          "data": {
            "text/html": [
              "<div>\n",
              "<style scoped>\n",
              "    .dataframe tbody tr th:only-of-type {\n",
              "        vertical-align: middle;\n",
              "    }\n",
              "\n",
              "    .dataframe tbody tr th {\n",
              "        vertical-align: top;\n",
              "    }\n",
              "\n",
              "    .dataframe thead th {\n",
              "        text-align: right;\n",
              "    }\n",
              "</style>\n",
              "<table border=\"1\" class=\"dataframe\">\n",
              "  <thead>\n",
              "    <tr style=\"text-align: right;\">\n",
              "      <th></th>\n",
              "      <th>MAT</th>\n",
              "      <th>NOME</th>\n",
              "      <th>TOTAL GERAL</th>\n",
              "    </tr>\n",
              "  </thead>\n",
              "  <tbody>\n",
              "    <tr>\n",
              "      <th>3</th>\n",
              "      <td>9558</td>\n",
              "      <td>ADRIANA FONSECA DE MORAES</td>\n",
              "      <td>211.66</td>\n",
              "    </tr>\n",
              "    <tr>\n",
              "      <th>4</th>\n",
              "      <td>9558</td>\n",
              "      <td>CRISTIAN PEREIRA PINHEIRO</td>\n",
              "      <td>207.93</td>\n",
              "    </tr>\n",
              "    <tr>\n",
              "      <th>5</th>\n",
              "      <td>10096</td>\n",
              "      <td>ADRIANE COELHO DA FONSECA</td>\n",
              "      <td>176.95</td>\n",
              "    </tr>\n",
              "    <tr>\n",
              "      <th>6</th>\n",
              "      <td>10096</td>\n",
              "      <td>BENICIO VALENTIN DA FONSECA SILVA</td>\n",
              "      <td>174.87</td>\n",
              "    </tr>\n",
              "    <tr>\n",
              "      <th>7</th>\n",
              "      <td>10096</td>\n",
              "      <td>ISIS VICTORIA DA FONSECA SILVA</td>\n",
              "      <td>174.87</td>\n",
              "    </tr>\n",
              "    <tr>\n",
              "      <th>...</th>\n",
              "      <td>...</td>\n",
              "      <td>...</td>\n",
              "      <td>...</td>\n",
              "    </tr>\n",
              "    <tr>\n",
              "      <th>620</th>\n",
              "      <td>16443</td>\n",
              "      <td>CAIO VICTOR VELOSO PEREIRA</td>\n",
              "      <td>173.83</td>\n",
              "    </tr>\n",
              "    <tr>\n",
              "      <th>621</th>\n",
              "      <td>NaN</td>\n",
              "      <td>NaN</td>\n",
              "      <td>NaN</td>\n",
              "    </tr>\n",
              "    <tr>\n",
              "      <th>622</th>\n",
              "      <td>NaN</td>\n",
              "      <td>NaN</td>\n",
              "      <td>NaN</td>\n",
              "    </tr>\n",
              "    <tr>\n",
              "      <th>623</th>\n",
              "      <td>NaN</td>\n",
              "      <td>NaN</td>\n",
              "      <td>NaN</td>\n",
              "    </tr>\n",
              "    <tr>\n",
              "      <th>624</th>\n",
              "      <td>TOTAL GERAL</td>\n",
              "      <td>NaN</td>\n",
              "      <td>119339.03</td>\n",
              "    </tr>\n",
              "  </tbody>\n",
              "</table>\n",
              "<p>622 rows × 3 columns</p>\n",
              "</div>"
            ],
            "text/plain": [
              "             MAT                               NOME TOTAL GERAL \n",
              "3           9558          ADRIANA FONSECA DE MORAES       211.66\n",
              "4           9558          CRISTIAN PEREIRA PINHEIRO       207.93\n",
              "5          10096          ADRIANE COELHO DA FONSECA       176.95\n",
              "6          10096  BENICIO VALENTIN DA FONSECA SILVA       174.87\n",
              "7          10096    ISIS VICTORIA DA FONSECA SILVA        174.87\n",
              "..           ...                                ...          ...\n",
              "620        16443         CAIO VICTOR VELOSO PEREIRA       173.83\n",
              "621          NaN                                NaN          NaN\n",
              "622          NaN                                NaN          NaN\n",
              "623          NaN                                NaN          NaN\n",
              "624  TOTAL GERAL                                NaN    119339.03\n",
              "\n",
              "[622 rows x 3 columns]"
            ]
          },
          "metadata": {},
          "execution_count": 3
        }
      ],
      "metadata": {
        "id": "4rJuW9AvCL-3",
        "outputId": "35e80ebe-5c9f-4c8d-a8d9-ebc131d1d204"
      }
    },
    {
      "cell_type": "code",
      "execution_count": null,
      "source": [
        "planilha = planilha.dropna(axis=0, how = 'any' )\n",
        "planilha.tail()"
      ],
      "outputs": [
        {
          "output_type": "execute_result",
          "data": {
            "text/html": [
              "<div>\n",
              "<style scoped>\n",
              "    .dataframe tbody tr th:only-of-type {\n",
              "        vertical-align: middle;\n",
              "    }\n",
              "\n",
              "    .dataframe tbody tr th {\n",
              "        vertical-align: top;\n",
              "    }\n",
              "\n",
              "    .dataframe thead th {\n",
              "        text-align: right;\n",
              "    }\n",
              "</style>\n",
              "<table border=\"1\" class=\"dataframe\">\n",
              "  <thead>\n",
              "    <tr style=\"text-align: right;\">\n",
              "      <th></th>\n",
              "      <th>MAT</th>\n",
              "      <th>NOME</th>\n",
              "      <th>TOTAL GERAL</th>\n",
              "    </tr>\n",
              "  </thead>\n",
              "  <tbody>\n",
              "    <tr>\n",
              "      <th>616</th>\n",
              "      <td>16491</td>\n",
              "      <td>GEYCE FERNANDA FERREIRA</td>\n",
              "      <td>283.09</td>\n",
              "    </tr>\n",
              "    <tr>\n",
              "      <th>617</th>\n",
              "      <td>15059</td>\n",
              "      <td>GISNEI ANTONIO ALMEIDA PEREIRA</td>\n",
              "      <td>207.93</td>\n",
              "    </tr>\n",
              "    <tr>\n",
              "      <th>618</th>\n",
              "      <td>15059</td>\n",
              "      <td>FRANCISCA ROSIVANA CAMPOS PEREIRA</td>\n",
              "      <td>207.93</td>\n",
              "    </tr>\n",
              "    <tr>\n",
              "      <th>619</th>\n",
              "      <td>12296</td>\n",
              "      <td>VICTOR HUGO PIMENTEL DOS SANTOS</td>\n",
              "      <td>237.05</td>\n",
              "    </tr>\n",
              "    <tr>\n",
              "      <th>620</th>\n",
              "      <td>16443</td>\n",
              "      <td>CAIO VICTOR VELOSO PEREIRA</td>\n",
              "      <td>173.83</td>\n",
              "    </tr>\n",
              "  </tbody>\n",
              "</table>\n",
              "</div>"
            ],
            "text/plain": [
              "       MAT                               NOME TOTAL GERAL \n",
              "616  16491            GEYCE FERNANDA FERREIRA       283.09\n",
              "617  15059     GISNEI ANTONIO ALMEIDA PEREIRA       207.93\n",
              "618  15059  FRANCISCA ROSIVANA CAMPOS PEREIRA       207.93\n",
              "619  12296    VICTOR HUGO PIMENTEL DOS SANTOS       237.05\n",
              "620  16443         CAIO VICTOR VELOSO PEREIRA       173.83"
            ]
          },
          "metadata": {},
          "execution_count": 5
        }
      ],
      "metadata": {
        "id": "WvZE5LinCL-8",
        "outputId": "1f42e88b-62a9-4743-e80b-89fd9dacf0cf"
      }
    },
    {
      "cell_type": "code",
      "execution_count": null,
      "source": [
        "planilha_final = planilha.groupby(['MAT'],as_index=False).agg({'TOTAL GERAL ':'sum'})\n",
        "planilha_final.loc[planilha_final.shape[0]] = ['Total', planilha_final.iloc[:, 1].sum()]\n",
        "  "
      ],
      "outputs": [],
      "metadata": {
        "id": "TV5ShJatCL-_"
      }
    },
    {
      "cell_type": "code",
      "execution_count": null,
      "source": [
        "planilha_final"
      ],
      "outputs": [
        {
          "output_type": "execute_result",
          "data": {
            "text/html": [
              "<div>\n",
              "<style scoped>\n",
              "    .dataframe tbody tr th:only-of-type {\n",
              "        vertical-align: middle;\n",
              "    }\n",
              "\n",
              "    .dataframe tbody tr th {\n",
              "        vertical-align: top;\n",
              "    }\n",
              "\n",
              "    .dataframe thead th {\n",
              "        text-align: right;\n",
              "    }\n",
              "</style>\n",
              "<table border=\"1\" class=\"dataframe\">\n",
              "  <thead>\n",
              "    <tr style=\"text-align: right;\">\n",
              "      <th></th>\n",
              "      <th>MAT</th>\n",
              "      <th>TOTAL GERAL</th>\n",
              "    </tr>\n",
              "  </thead>\n",
              "  <tbody>\n",
              "    <tr>\n",
              "      <th>0</th>\n",
              "      <td>3615</td>\n",
              "      <td>725.48</td>\n",
              "    </tr>\n",
              "    <tr>\n",
              "      <th>1</th>\n",
              "      <td>3665</td>\n",
              "      <td>207.93</td>\n",
              "    </tr>\n",
              "    <tr>\n",
              "      <th>2</th>\n",
              "      <td>3750</td>\n",
              "      <td>292.84</td>\n",
              "    </tr>\n",
              "    <tr>\n",
              "      <th>3</th>\n",
              "      <td>3880</td>\n",
              "      <td>726.24</td>\n",
              "    </tr>\n",
              "    <tr>\n",
              "      <th>4</th>\n",
              "      <td>4247</td>\n",
              "      <td>363.22</td>\n",
              "    </tr>\n",
              "    <tr>\n",
              "      <th>...</th>\n",
              "      <td>...</td>\n",
              "      <td>...</td>\n",
              "    </tr>\n",
              "    <tr>\n",
              "      <th>429</th>\n",
              "      <td>16443</td>\n",
              "      <td>173.83</td>\n",
              "    </tr>\n",
              "    <tr>\n",
              "      <th>430</th>\n",
              "      <td>16491</td>\n",
              "      <td>283.09</td>\n",
              "    </tr>\n",
              "    <tr>\n",
              "      <th>431</th>\n",
              "      <td>16498</td>\n",
              "      <td>173.83</td>\n",
              "    </tr>\n",
              "    <tr>\n",
              "      <th>432</th>\n",
              "      <td>16508</td>\n",
              "      <td>566.18</td>\n",
              "    </tr>\n",
              "    <tr>\n",
              "      <th>433</th>\n",
              "      <td>Total</td>\n",
              "      <td>119339.03</td>\n",
              "    </tr>\n",
              "  </tbody>\n",
              "</table>\n",
              "<p>434 rows × 2 columns</p>\n",
              "</div>"
            ],
            "text/plain": [
              "       MAT  TOTAL GERAL \n",
              "0     3615        725.48\n",
              "1     3665        207.93\n",
              "2     3750        292.84\n",
              "3     3880        726.24\n",
              "4     4247        363.22\n",
              "..     ...           ...\n",
              "429  16443        173.83\n",
              "430  16491        283.09\n",
              "431  16498        173.83\n",
              "432  16508        566.18\n",
              "433  Total     119339.03\n",
              "\n",
              "[434 rows x 2 columns]"
            ]
          },
          "metadata": {},
          "execution_count": 10
        }
      ],
      "metadata": {
        "id": "jPFG50eFCL_C",
        "outputId": "daf4f997-81da-42b2-e182-4ce900ec305c"
      }
    },
    {
      "cell_type": "code",
      "execution_count": null,
      "source": [
        "from openpyxl import load_workbook"
      ],
      "outputs": [],
      "metadata": {
        "id": "eBBv28bQCL_G"
      }
    },
    {
      "cell_type": "code",
      "execution_count": null,
      "source": [
        "book = load_workbook('PLANO HAPVIDA - ELENKARLA.xlsx')\n",
        "writer = pd.ExcelWriter('PLANO HAPVIDA - ELENKARLA.xlsx', engine='openpyxl')\n",
        "writer.book = book\n",
        "writer.sheets = dict((ws.title, ws) for ws in book.worksheets)\n",
        "planilha_final.to_excel(writer, sheet_name='Valor_por_matricula', index=False)\n",
        "writer.save()"
      ],
      "outputs": [],
      "metadata": {
        "id": "jhkgR7WQCL_K"
      }
    }
  ],
  "metadata": {
    "orig_nbformat": 4,
    "language_info": {
      "name": "python",
      "version": "3.8.5",
      "mimetype": "text/x-python",
      "codemirror_mode": {
        "name": "ipython",
        "version": 3
      },
      "pygments_lexer": "ipython3",
      "nbconvert_exporter": "python",
      "file_extension": ".py"
    },
    "kernelspec": {
      "name": "python3",
      "display_name": "Python 3.8.5 64-bit"
    },
    "interpreter": {
      "hash": "1632e2ff46af55249cd5fd66d1abca92825625e5a09d68756c5f6be6bda9c5d6"
    },
    "colab": {
      "name": "planilha.ipynb",
      "provenance": [],
      "include_colab_link": true
    }
  },
  "nbformat": 4,
  "nbformat_minor": 0
}